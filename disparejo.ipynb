{
 "cells": [
  {
   "cell_type": "markdown",
   "metadata": {},
   "source": [
    "# Problema 1\n",
    "\n",
    "Considere un juego de disparejo entre cuatro jugadores, en el que cada jugador adopta la siguiente estrategia:\n",
    "\n",
    "    - El jugador 1 siempre escoge al azar entre las dos opciones.\n",
    "    - El jugador 2 escoge siempre hacia abajo sin importar lo que haya ocurrido anteriormente.\n",
    "    - El jugador 3 escoge la última opción ganadora de las partidas anteriores. En la primera jugada, escoge arriba.\n",
    "    - El jugador 4 escoge aquello opuesto al jugador 1 en la última partida. En la primera jugada, escoge al azar.\n",
    "\n",
    "Utilice AgentPy para generar una simulación del juego, y simule 1000 juegos consecutivos. Muestre los resultados obtenidos para cada uno de los jugadores al final de la simulación.\n",
    "\n",
    "¿Qué jugador obtuvo mejores resultados? ¿Alguna de las estrategias fue mejor que las otras?\n"
   ]
  },
  {
   "cell_type": "code",
   "execution_count": null,
   "metadata": {},
   "outputs": [],
   "source": [
    "#Model\n",
    "import agentpy as ap\n",
    "\n",
    "# Visualization\n",
    "import seaborn as sns\n",
    "import IPython"
   ]
  },
  {
   "cell_type": "markdown",
   "metadata": {},
   "source": [
    "#### Agent definition"
   ]
  },
  {
   "cell_type": "code",
   "execution_count": null,
   "metadata": {},
   "outputs": [],
   "source": [
    "class Player(ap.Agent):\n",
    "\n",
    "    def setup(self):\n",
    "\n"
   ]
  }
 ],
 "metadata": {
  "kernelspec": {
   "display_name": "Python 3.10.8 64-bit (microsoft store)",
   "language": "python",
   "name": "python3"
  },
  "language_info": {
   "name": "python",
   "version": "3.10.8"
  },
  "orig_nbformat": 4,
  "vscode": {
   "interpreter": {
    "hash": "3c8bb89b5e606bb24189a2b7642066ee4a34d93bd5bb3d07529cf22318044223"
   }
  }
 },
 "nbformat": 4,
 "nbformat_minor": 2
}
