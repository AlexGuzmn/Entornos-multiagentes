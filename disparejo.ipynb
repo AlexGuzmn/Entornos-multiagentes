{
 "cells": [
  {
   "cell_type": "markdown",
   "metadata": {},
   "source": [
    "# Problema 1\n",
    "\n",
    "Considere un juego de disparejo entre cuatro jugadores, en el que cada jugador adopta la siguiente estrategia:\n",
    "\n",
    "- El jugador 1 siempre escoge al azar entre las dos opciones.\n",
    "- El jugador 2 escoge siempre hacia abajo sin importar lo que haya ocurrido anteriormente.\n",
    "- El jugador 3 escoge la última opción ganadora de las partidas anteriores. En la primera jugada, escoge arriba.\n",
    "- El jugador 4 escoge aquello opuesto al jugador 1 en la última partida. En la primera jugada, escoge al azar.\n",
    "\n",
    "Utilice AgentPy para generar una simulación del juego, y simule 1000 juegos consecutivos. Muestre los resultados obtenidos para cada uno de los jugadores al final de la simulación.\n",
    "\n",
    "¿Qué jugador obtuvo mejores resultados? ¿Alguna de las estrategias fue mejor que las otras?\n"
   ]
  },
  {
   "cell_type": "code",
   "execution_count": 25,
   "metadata": {},
   "outputs": [],
   "source": [
    "#Model\n",
    "import agentpy as ap\n",
    "\n",
    "# Visualization\n",
    "import IPython\n",
    "\n",
    "# Native\n",
    "from enum import Enum\n",
    "import random"
   ]
  },
  {
   "cell_type": "markdown",
   "metadata": {},
   "source": [
    "#### Agent definition"
   ]
  },
  {
   "cell_type": "code",
   "execution_count": 26,
   "metadata": {},
   "outputs": [],
   "source": [
    "class DIRECTION(Enum):\n",
    "    DOWN = 0\n",
    "    UP = 1\n",
    "\n",
    "class Player(ap.Agent):\n",
    "\n",
    "    def setup(self):\n",
    "        self.prev_direction = None\n",
    "        self.curr_direction = None\n",
    "        self.score = 0\n",
    "\n",
    "    def newCurrDirection(self):\n",
    "        self.prev_direction = self.curr_direction\n",
    "\n",
    "        match self.id:\n",
    "            case 1:\n",
    "                self.curr_direction = random.randint(0, 1)\n",
    "            case 2:\n",
    "                self.curr_direction = DIRECTION.DOWN.value\n",
    "            case 3:\n",
    "                if self.model.last_player_won_id is not None:\n",
    "                    prev_user_dir = self.model.agents[self.model.last_player_won_id - 1].prev_direction\n",
    "                    self.curr_direction = prev_user_dir\n",
    "                elif self.model.t == 0:\n",
    "                    self.curr_direction = DIRECTION.UP.value\n",
    "            case 4:\n",
    "                player_1_prev_direction = self.model.agents[0].prev_direction\n",
    "\n",
    "                if player_1_prev_direction is not None:\n",
    "                    if player_1_prev_direction == DIRECTION.UP.value:\n",
    "                        self.curr_direction = DIRECTION.DOWN.value\n",
    "                    else:\n",
    "                        self.curr_direction = DIRECTION.UP.value\n",
    "                elif self.model.t == 0:\n",
    "                    self.curr_direction = random.randint(0, 1)\n",
    "\n",
    "            case _:\n",
    "                print(\"Error: unknown player: \", self.id)\n"
   ]
  },
  {
   "cell_type": "code",
   "execution_count": 27,
   "metadata": {
    "collapsed": false
   },
   "outputs": [],
   "source": [
    "class Model(ap.Model):\n",
    "    def checkWinner(self):\n",
    "        zero_count = 0\n",
    "        self.curr_winner_dir = None\n",
    "\n",
    "        for agent in self.agents:\n",
    "            if agent.curr_direction == 0:\n",
    "                zero_count += 1\n",
    "\n",
    "        for agent in self.agents:\n",
    "            if zero_count == 1:\n",
    "                if agent.curr_direction == 0:\n",
    "                    agent.score += 1\n",
    "                    self.last_player_won_id = agent.id\n",
    "                    break\n",
    "\n",
    "            elif zero_count == 3:\n",
    "                if agent.curr_direction == 1:\n",
    "                    agent.score += 1\n",
    "                    self.last_player_won_id = agent.id\n",
    "                    break\n",
    "\n",
    "    def setup(self):\n",
    "        self.last_player_won_id = None\n",
    "\n",
    "        self.agents = ap.AgentList(self, 4, Player)\n",
    "        self.agents.newCurrDirection()\n",
    "        self.checkWinner()\n",
    "\n",
    "    def step(self):\n",
    "        self.agents.newCurrDirection()\n",
    "        self.last_player_won_id = None\n",
    "\n",
    "        self.checkWinner()\n",
    "\n",
    "    def update(self):\n",
    "        self.agents.record('curr_direction')\n",
    "        self.agents.record('score')"
   ]
  },
  {
   "cell_type": "code",
   "execution_count": 28,
   "metadata": {
    "collapsed": false
   },
   "outputs": [
    {
     "name": "stdout",
     "output_type": "stream",
     "text": [
      "Completed: 999 steps\n",
      "Run time: 0:00:00.035002\n",
      "Simulation finished\n"
     ]
    }
   ],
   "source": [
    "simul = 1000\n",
    "parameters = {'steps': simul-1}\n",
    "model = Model(parameters)\n",
    "\n",
    "res = model.run()"
   ]
  },
  {
   "cell_type": "code",
   "execution_count": 29,
   "metadata": {
    "collapsed": false
   },
   "outputs": [
    {
     "data": {
      "text/html": [
       "<div>\n",
       "<style scoped>\n",
       "    .dataframe tbody tr th:only-of-type {\n",
       "        vertical-align: middle;\n",
       "    }\n",
       "\n",
       "    .dataframe tbody tr th {\n",
       "        vertical-align: top;\n",
       "    }\n",
       "\n",
       "    .dataframe thead th {\n",
       "        text-align: right;\n",
       "    }\n",
       "</style>\n",
       "<table border=\"1\" class=\"dataframe\">\n",
       "  <thead>\n",
       "    <tr style=\"text-align: right;\">\n",
       "      <th></th>\n",
       "      <th></th>\n",
       "      <th>curr_direction</th>\n",
       "      <th>score</th>\n",
       "    </tr>\n",
       "    <tr>\n",
       "      <th>obj_id</th>\n",
       "      <th>t</th>\n",
       "      <th></th>\n",
       "      <th></th>\n",
       "    </tr>\n",
       "  </thead>\n",
       "  <tbody>\n",
       "    <tr>\n",
       "      <th rowspan=\"5\" valign=\"top\">1</th>\n",
       "      <th>0</th>\n",
       "      <td>0</td>\n",
       "      <td>0</td>\n",
       "    </tr>\n",
       "    <tr>\n",
       "      <th>1</th>\n",
       "      <td>0</td>\n",
       "      <td>0</td>\n",
       "    </tr>\n",
       "    <tr>\n",
       "      <th>2</th>\n",
       "      <td>0</td>\n",
       "      <td>0</td>\n",
       "    </tr>\n",
       "    <tr>\n",
       "      <th>3</th>\n",
       "      <td>1</td>\n",
       "      <td>0</td>\n",
       "    </tr>\n",
       "    <tr>\n",
       "      <th>4</th>\n",
       "      <td>0</td>\n",
       "      <td>0</td>\n",
       "    </tr>\n",
       "    <tr>\n",
       "      <th>...</th>\n",
       "      <th>...</th>\n",
       "      <td>...</td>\n",
       "      <td>...</td>\n",
       "    </tr>\n",
       "    <tr>\n",
       "      <th rowspan=\"5\" valign=\"top\">4</th>\n",
       "      <th>995</th>\n",
       "      <td>0</td>\n",
       "      <td>82</td>\n",
       "    </tr>\n",
       "    <tr>\n",
       "      <th>996</th>\n",
       "      <td>1</td>\n",
       "      <td>82</td>\n",
       "    </tr>\n",
       "    <tr>\n",
       "      <th>997</th>\n",
       "      <td>1</td>\n",
       "      <td>82</td>\n",
       "    </tr>\n",
       "    <tr>\n",
       "      <th>998</th>\n",
       "      <td>0</td>\n",
       "      <td>82</td>\n",
       "    </tr>\n",
       "    <tr>\n",
       "      <th>999</th>\n",
       "      <td>0</td>\n",
       "      <td>82</td>\n",
       "    </tr>\n",
       "  </tbody>\n",
       "</table>\n",
       "<p>4000 rows × 2 columns</p>\n",
       "</div>"
      ],
      "text/plain": [
       "            curr_direction  score\n",
       "obj_id t                         \n",
       "1      0                 0      0\n",
       "       1                 0      0\n",
       "       2                 0      0\n",
       "       3                 1      0\n",
       "       4                 0      0\n",
       "...                    ...    ...\n",
       "4      995               0     82\n",
       "       996               1     82\n",
       "       997               1     82\n",
       "       998               0     82\n",
       "       999               0     82\n",
       "\n",
       "[4000 rows x 2 columns]"
      ]
     },
     "execution_count": 29,
     "metadata": {},
     "output_type": "execute_result"
    }
   ],
   "source": [
    "res.variables.Player"
   ]
  },
  {
   "cell_type": "code",
   "execution_count": 30,
   "metadata": {},
   "outputs": [
    {
     "name": "stdout",
     "output_type": "stream",
     "text": [
      "---------- PLAYERS FINAL SCORES AFTER 1000 GAMES ---------- \n",
      "\n",
      "Player 1 final score: 125\n",
      "Player 2 final score: 156\n",
      "Player 3 final score: 125\n",
      "Player 4 final score: 82\n"
     ]
    }
   ],
   "source": [
    "print(\"---------- PLAYERS FINAL SCORES AFTER \" + str(simul) + \" GAMES ---------- \\n\")\n",
    "\n",
    "print(\"Player 1 final score: \" + str(res.variables.Player.score[1][simul-1]))\n",
    "print(\"Player 2 final score: \" + str(res.variables.Player.score[2][simul-1]))\n",
    "print(\"Player 3 final score: \" + str(res.variables.Player.score[3][simul-1]))\n",
    "print(\"Player 4 final score: \" + str(res.variables.Player.score[4][simul-1]))"
   ]
  }
 ],
 "metadata": {
  "kernelspec": {
   "display_name": "Python 3.10.8 64-bit (microsoft store)",
   "language": "python",
   "name": "python3"
  },
  "language_info": {
   "codemirror_mode": {
    "name": "ipython",
    "version": 3
   },
   "file_extension": ".py",
   "mimetype": "text/x-python",
   "name": "python",
   "nbconvert_exporter": "python",
   "pygments_lexer": "ipython3",
   "version": "3.10.8"
  },
  "orig_nbformat": 4,
  "vscode": {
   "interpreter": {
    "hash": "3c8bb89b5e606bb24189a2b7642066ee4a34d93bd5bb3d07529cf22318044223"
   }
  }
 },
 "nbformat": 4,
 "nbformat_minor": 2
}
