{
 "cells": [
  {
   "cell_type": "markdown",
   "metadata": {},
   "source": [
    "# Problema 1\n",
    "\n",
    "Considere un juego de disparejo entre cuatro jugadores, en el que cada jugador adopta la siguiente estrategia:\n",
    "\n",
    "    - El jugador 1 siempre escoge al azar entre las dos opciones.\n",
    "    - El jugador 2 escoge siempre hacia abajo sin importar lo que haya ocurrido anteriormente.\n",
    "    - El jugador 3 escoge la última opción ganadora de las partidas anteriores. En la primera jugada, escoge arriba.\n",
    "    - El jugador 4 escoge aquello opuesto al jugador 1 en la última partida. En la primera jugada, escoge al azar.\n",
    "\n",
    "Utilice AgentPy para generar una simulación del juego, y simule 1000 juegos consecutivos. Muestre los resultados obtenidos para cada uno de los jugadores al final de la simulación.\n",
    "\n",
    "¿Qué jugador obtuvo mejores resultados? ¿Alguna de las estrategias fue mejor que las otras?\n"
   ]
  },
  {
   "cell_type": "code",
   "execution_count": 1,
   "metadata": {},
   "outputs": [],
   "source": [
    "#Model\n",
    "import agentpy as ap\n",
    "\n",
    "# Visualization\n",
    "import seaborn as sns\n",
    "import IPython\n",
    "\n",
    "# Native\n",
    "from enum import Enum\n",
    "import random"
   ]
  },
  {
   "cell_type": "markdown",
   "metadata": {},
   "source": [
    "#### Agent definition"
   ]
  },
  {
   "cell_type": "code",
   "execution_count": 2,
   "metadata": {},
   "outputs": [],
   "source": [
    "class DIRECTION(Enum):\n",
    "    DOWN = 0\n",
    "    UP = 1\n",
    "\n",
    "class Player(ap.Agent):\n",
    "\n",
    "    def setup(self):\n",
    "        self.prev_direction = None\n",
    "        self.curr_direction = None\n",
    "        self.score = 0\n",
    "\n",
    "    def newCurrDirection(self):\n",
    "        self.prev_direction = self.curr_direction\n",
    "\n",
    "        match self.id:\n",
    "            case 1:\n",
    "                self.curr_direction = random.randint(0, 1)\n",
    "            case 2:\n",
    "                self.curr_direction = DIRECTION.DOWN.value\n",
    "            case 3:\n",
    "                if self.model.last_player_won_id is not None:\n",
    "                    prev_user_dir = self.model.agents[self.model.last_player_won_id - 1].prev_direction\n",
    "                    self.curr_direction = prev_user_dir\n",
    "                elif self.model.t == 0:\n",
    "                    self.curr_direction = DIRECTION.UP.value\n",
    "            case 4:\n",
    "                player_1_prev_direction = self.model.agents[0].prev_direction\n",
    "\n",
    "                if player_1_prev_direction is not None:\n",
    "                    if player_1_prev_direction == DIRECTION.UP.value:\n",
    "                        self.curr_direction = DIRECTION.DOWN.value\n",
    "                    else:\n",
    "                        self.curr_direction = DIRECTION.UP.value\n",
    "                elif self.model.t == 0:\n",
    "                    self.curr_direction = random.randint(0, 1)\n",
    "\n",
    "            case _:\n",
    "                print(\"Error: unknown player: \", self.id)\n"
   ]
  },
  {
   "cell_type": "code",
   "execution_count": 3,
   "outputs": [],
   "source": [
    "class Model(ap.Model):\n",
    "    def checkWinner(self):\n",
    "        zero_count = 0\n",
    "        self.curr_winner_dir = None\n",
    "\n",
    "        for agent in self.agents:\n",
    "            if agent.curr_direction == 0:\n",
    "                zero_count += 1\n",
    "\n",
    "        for agent in self.agents:\n",
    "            if zero_count == 1:\n",
    "                if agent.curr_direction == 0:\n",
    "                    agent.score += 1\n",
    "                    self.last_player_won_id = agent.id\n",
    "                    break\n",
    "\n",
    "            elif zero_count == 3:\n",
    "                if agent.curr_direction == 1:\n",
    "                    agent.score += 1\n",
    "                    self.last_player_won_id = agent.id\n",
    "                    break\n",
    "\n",
    "    def setup(self):\n",
    "        self.last_player_won_id = None\n",
    "\n",
    "        self.agents = ap.AgentList(self, 4, Player)\n",
    "        self.agents.newCurrDirection()\n",
    "        self.checkWinner()\n",
    "\n",
    "    def step(self):\n",
    "        self.agents.newCurrDirection()\n",
    "        self.last_player_won_id = None\n",
    "\n",
    "        self.checkWinner()\n",
    "\n",
    "    def update(self):\n",
    "        self.agents.record('curr_direction')\n",
    "        self.agents.record('score')"
   ],
   "metadata": {
    "collapsed": false
   }
  },
  {
   "cell_type": "code",
   "execution_count": 4,
   "outputs": [
    {
     "name": "stdout",
     "output_type": "stream",
     "text": [
      "Completed: 5 steps\n",
      "Run time: 0:00:00.003534\n",
      "Simulation finished\n"
     ]
    }
   ],
   "source": [
    "parameters = {'steps': 5}\n",
    "model = Model(parameters)\n",
    "\n",
    "res = model.run()"
   ],
   "metadata": {
    "collapsed": false
   }
  },
  {
   "cell_type": "code",
   "execution_count": 5,
   "outputs": [
    {
     "data": {
      "text/plain": "          curr_direction  score\nobj_id t                       \n1      0               0      0\n       1               1      0\n       2               0      0\n       3               1      0\n       4               1      1\n       5               1      1\n2      0               0      0\n       1               0      1\n       2               0      1\n       3               0      1\n       4               0      1\n       5               0      1\n3      0               1      1\n       1               1      1\n       2               0      1\n       3               0      1\n       4               0      1\n       5               1      1\n4      0               0      0\n       1               1      0\n       2               0      0\n       3               1      0\n       4               0      0\n       5               0      0",
      "text/html": "<div>\n<style scoped>\n    .dataframe tbody tr th:only-of-type {\n        vertical-align: middle;\n    }\n\n    .dataframe tbody tr th {\n        vertical-align: top;\n    }\n\n    .dataframe thead th {\n        text-align: right;\n    }\n</style>\n<table border=\"1\" class=\"dataframe\">\n  <thead>\n    <tr style=\"text-align: right;\">\n      <th></th>\n      <th></th>\n      <th>curr_direction</th>\n      <th>score</th>\n    </tr>\n    <tr>\n      <th>obj_id</th>\n      <th>t</th>\n      <th></th>\n      <th></th>\n    </tr>\n  </thead>\n  <tbody>\n    <tr>\n      <th rowspan=\"6\" valign=\"top\">1</th>\n      <th>0</th>\n      <td>0</td>\n      <td>0</td>\n    </tr>\n    <tr>\n      <th>1</th>\n      <td>1</td>\n      <td>0</td>\n    </tr>\n    <tr>\n      <th>2</th>\n      <td>0</td>\n      <td>0</td>\n    </tr>\n    <tr>\n      <th>3</th>\n      <td>1</td>\n      <td>0</td>\n    </tr>\n    <tr>\n      <th>4</th>\n      <td>1</td>\n      <td>1</td>\n    </tr>\n    <tr>\n      <th>5</th>\n      <td>1</td>\n      <td>1</td>\n    </tr>\n    <tr>\n      <th rowspan=\"6\" valign=\"top\">2</th>\n      <th>0</th>\n      <td>0</td>\n      <td>0</td>\n    </tr>\n    <tr>\n      <th>1</th>\n      <td>0</td>\n      <td>1</td>\n    </tr>\n    <tr>\n      <th>2</th>\n      <td>0</td>\n      <td>1</td>\n    </tr>\n    <tr>\n      <th>3</th>\n      <td>0</td>\n      <td>1</td>\n    </tr>\n    <tr>\n      <th>4</th>\n      <td>0</td>\n      <td>1</td>\n    </tr>\n    <tr>\n      <th>5</th>\n      <td>0</td>\n      <td>1</td>\n    </tr>\n    <tr>\n      <th rowspan=\"6\" valign=\"top\">3</th>\n      <th>0</th>\n      <td>1</td>\n      <td>1</td>\n    </tr>\n    <tr>\n      <th>1</th>\n      <td>1</td>\n      <td>1</td>\n    </tr>\n    <tr>\n      <th>2</th>\n      <td>0</td>\n      <td>1</td>\n    </tr>\n    <tr>\n      <th>3</th>\n      <td>0</td>\n      <td>1</td>\n    </tr>\n    <tr>\n      <th>4</th>\n      <td>0</td>\n      <td>1</td>\n    </tr>\n    <tr>\n      <th>5</th>\n      <td>1</td>\n      <td>1</td>\n    </tr>\n    <tr>\n      <th rowspan=\"6\" valign=\"top\">4</th>\n      <th>0</th>\n      <td>0</td>\n      <td>0</td>\n    </tr>\n    <tr>\n      <th>1</th>\n      <td>1</td>\n      <td>0</td>\n    </tr>\n    <tr>\n      <th>2</th>\n      <td>0</td>\n      <td>0</td>\n    </tr>\n    <tr>\n      <th>3</th>\n      <td>1</td>\n      <td>0</td>\n    </tr>\n    <tr>\n      <th>4</th>\n      <td>0</td>\n      <td>0</td>\n    </tr>\n    <tr>\n      <th>5</th>\n      <td>0</td>\n      <td>0</td>\n    </tr>\n  </tbody>\n</table>\n</div>"
     },
     "execution_count": 5,
     "metadata": {},
     "output_type": "execute_result"
    }
   ],
   "source": [
    "res.variables.Player"
   ],
   "metadata": {
    "collapsed": false
   }
  },
  {
   "cell_type": "code",
   "execution_count": 8,
   "outputs": [
    {
     "data": {
      "text/plain": "                                     seed\n0  47781996468612601228286266083587513407",
      "text/html": "<div>\n<style scoped>\n    .dataframe tbody tr th:only-of-type {\n        vertical-align: middle;\n    }\n\n    .dataframe tbody tr th {\n        vertical-align: top;\n    }\n\n    .dataframe thead th {\n        text-align: right;\n    }\n</style>\n<table border=\"1\" class=\"dataframe\">\n  <thead>\n    <tr style=\"text-align: right;\">\n      <th></th>\n      <th>seed</th>\n    </tr>\n  </thead>\n  <tbody>\n    <tr>\n      <th>0</th>\n      <td>47781996468612601228286266083587513407</td>\n    </tr>\n  </tbody>\n</table>\n</div>"
     },
     "execution_count": 8,
     "metadata": {},
     "output_type": "execute_result"
    }
   ],
   "source": [
    "res."
   ],
   "metadata": {
    "collapsed": false
   }
  },
  {
   "cell_type": "code",
   "execution_count": 6,
   "outputs": [],
   "source": [],
   "metadata": {
    "collapsed": false
   }
  }
 ],
 "metadata": {
  "kernelspec": {
   "display_name": "Python 3.10.8 64-bit (microsoft store)",
   "language": "python",
   "name": "python3"
  },
  "language_info": {
   "name": "python",
   "version": "3.10.8"
  },
  "orig_nbformat": 4,
  "vscode": {
   "interpreter": {
    "hash": "3c8bb89b5e606bb24189a2b7642066ee4a34d93bd5bb3d07529cf22318044223"
   }
  }
 },
 "nbformat": 4,
 "nbformat_minor": 2
}
