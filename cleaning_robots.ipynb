{
<<<<<<< HEAD
 "cells": [],
 "metadata": {
  "kernelspec": {
   "display_name": "Python 3.10.8 64-bit (microsoft store)",
=======
 "cells": [
  {
   "cell_type": "code",
   "execution_count": null,
   "metadata": {
    "collapsed": true
   },
   "outputs": [],
   "source": []
  }
 ],
 "metadata": {
  "kernelspec": {
   "display_name": "Python 3",
>>>>>>> efaaeedee4201300312603cca42567f8139cd88c
   "language": "python",
   "name": "python3"
  },
  "language_info": {
<<<<<<< HEAD
   "name": "python",
   "version": "3.10.8"
  },
  "orig_nbformat": 4,
  "vscode": {
   "interpreter": {
    "hash": "3c8bb89b5e606bb24189a2b7642066ee4a34d93bd5bb3d07529cf22318044223"
   }
  }
 },
 "nbformat": 4,
 "nbformat_minor": 2
=======
   "codemirror_mode": {
    "name": "ipython",
    "version": 2
   },
   "file_extension": ".py",
   "mimetype": "text/x-python",
   "name": "python",
   "nbconvert_exporter": "python",
   "pygments_lexer": "ipython2",
   "version": "2.7.6"
  }
 },
 "nbformat": 4,
 "nbformat_minor": 0
>>>>>>> efaaeedee4201300312603cca42567f8139cd88c
}
