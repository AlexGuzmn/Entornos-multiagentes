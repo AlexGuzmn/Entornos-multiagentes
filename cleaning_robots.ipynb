{
 "cells": [
  {
   "cell_type": "markdown",
   "metadata": {},
   "source": [
    "# Problema 3 \n",
    "\n",
    "Considere que en una habitación con MxN espacios, hay P robots limpiadores reactivos. Cada uno de los robot limpiadores se comporta de la siguiente manera:\n",
    "\n",
    "- Si la celda en la que se encuentra está sucia, entonces aspira durante 10 segundos.\n",
    "- Si la celda está limpia, el robot elije una dirección aleatoria para moverse (unas de las 8 celdas vecinas que esté sin otro robot) y elije la acción de movimiento (si no puede moverse allí, permanecerá en la misma celda). Este movimiento dura 2 segundos.\n",
    "- Si varios robots coinciden en alguna de las celdas, uno se queda en dicha celda y los otros se tiene que mover a alguna otra celda. \n",
    "- Quien se queda o quien se tiene que mover se elige aleatoriamente.\n",
    "- Al inicio de la simulación, las posiciones de los robots son elegidas al azar, y de igual forma las posiciones están limpias o sucias aleatoriamente.\n",
    "\n",
    "Realiza al menos 5 simulaciones en este entorno con diferente número de robots, y reporta lo siguiente:\n",
    "\n",
    "- Tiempo necesario hasta que todas las celdas estén limpias.\n",
    "- Porcentaje de celdas limpias después del termino de la simulación.\n",
    "- Número de movimientos realizados por todos los agentes.\n",
    "- Analiza cómo la cantidad de agentes impacta el tiempo dedicado, así como la cantidad de movimientos realizados. ¿Qué comportamiento agregarías a los robots para que limpiaran con mayor velocidad?"
   ]
  }
 ],
 "metadata": {
  "kernelspec": {
   "display_name": "Python 3.10.8 64-bit (microsoft store)",
   "language": "python",
   "name": "python3"
  },
  "language_info": {
   "name": "python",
   "version": "3.10.8"
  },
  "orig_nbformat": 4,
  "vscode": {
   "interpreter": {
    "hash": "3c8bb89b5e606bb24189a2b7642066ee4a34d93bd5bb3d07529cf22318044223"
   }
  }
 },
 "nbformat": 4,
 "nbformat_minor": 2
}
